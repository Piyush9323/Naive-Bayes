{
  "nbformat": 4,
  "nbformat_minor": 0,
  "metadata": {
    "colab": {
      "name": "NaiveBayes_sklearn.ipynb",
      "provenance": [],
      "collapsed_sections": [],
      "authorship_tag": "ABX9TyMsHxB/I/JLuzQlnslyOzOr"
    },
    "kernelspec": {
      "name": "python3",
      "display_name": "Python 3"
    }
  },
  "cells": [
    {
      "cell_type": "markdown",
      "metadata": {
        "id": "QmEidNDQEMAO"
      },
      "source": [
        "#**Author: Piyush Sharma**"
      ]
    },
    {
      "cell_type": "markdown",
      "metadata": {
        "id": "ItH3UHoiERbE"
      },
      "source": [
        "## **Machine Learning**\r\n",
        "\r\n",
        "Implementation of NaiveBayes with sklearn library and\r\n",
        "testing the algorithm on famous & overused iris datset\r\n"
      ]
    },
    {
      "cell_type": "markdown",
      "metadata": {
        "id": "jhuqXknrEFNq"
      },
      "source": [
        "# ---->>> Using Scikit-learn library"
      ]
    },
    {
      "cell_type": "code",
      "metadata": {
        "colab": {
          "base_uri": "https://localhost:8080/"
        },
        "id": "ChdMaTm0EEdJ",
        "outputId": "4c899e36-ac1f-40a1-f336-950d04331e19"
      },
      "source": [
        "# Importing the libraries and modules\r\n",
        "import pandas as pd\r\n",
        "from sklearn import datasets  \r\n",
        "from sklearn.model_selection import train_test_split\r\n",
        "from sklearn.naive_bayes import GaussianNB\r\n",
        "from sklearn.metrics import accuracy_score \r\n",
        "\r\n",
        "#Load dataset  \r\n",
        "iris = datasets.load_iris() \r\n",
        "\r\n",
        "# print the names of the features  \r\n",
        "print (\"Features: \", iris.feature_names)  \r\n",
        " \r\n",
        "# print the label type of flower(class_0, class_1, class_2)  \r\n",
        "print (\"Labels: \", iris.target_names) \r\n",
        "print()\r\n",
        "\r\n",
        "X =iris.data\r\n",
        "Y = iris.target\r\n",
        "accuracies = []\r\n",
        "\r\n",
        "for i in range(10):\r\n",
        "    # Split dataset into training set and test set  \r\n",
        "    X_train, X_test, y_train, y_test = train_test_split(X, Y, test_size=0.2,random_state=109)  \r\n",
        "    \r\n",
        "    #Training the Naive Bayes Classification model on the Training Set using gaussian model\r\n",
        "    gnb = GaussianNB()\r\n",
        "    gnb.fit(X_train, y_train)\r\n",
        "    \r\n",
        "    # Predicting the Test set results\r\n",
        "    y_pred = gnb.predict(X_test) \r\n",
        "    print(f\"\\n Iteration {i+1}\")\r\n",
        "    print(\"y_test: \",y_test) \r\n",
        "    print(\"y_pred: \",y_pred)  \r\n",
        "    \r\n",
        "    # Calculating accuracy\r\n",
        "    acc = accuracy_score(y_test, y_pred)\r\n",
        "    print(\"Accuracy:\", acc)\r\n",
        "    accuracies.append(acc)\r\n",
        "\r\n",
        "avg_acc = sum(accuracies) / len(accuracies)\r\n",
        "print(\"\\nThe avegarge accuracies of 10 iterations on iris data is :\",avg_acc)"
      ],
      "execution_count": 2,
      "outputs": [
        {
          "output_type": "stream",
          "text": [
            "Features:  ['sepal length (cm)', 'sepal width (cm)', 'petal length (cm)', 'petal width (cm)']\n",
            "Labels:  ['setosa' 'versicolor' 'virginica']\n",
            "\n",
            "\n",
            " Iteration 1\n",
            "y_test:  [2 1 2 0 2 1 0 2 1 2 2 0 1 0 0 0 1 2 0 1 1 0 2 0 0 1 2 1 1 2]\n",
            "y_pred:  [2 1 2 0 2 1 0 2 1 2 2 0 1 0 0 0 1 1 0 1 1 0 2 0 0 2 2 1 1 2]\n",
            "Accuracy: 0.9333333333333333\n",
            "\n",
            " Iteration 2\n",
            "y_test:  [2 1 2 0 2 1 0 2 1 2 2 0 1 0 0 0 1 2 0 1 1 0 2 0 0 1 2 1 1 2]\n",
            "y_pred:  [2 1 2 0 2 1 0 2 1 2 2 0 1 0 0 0 1 1 0 1 1 0 2 0 0 2 2 1 1 2]\n",
            "Accuracy: 0.9333333333333333\n",
            "\n",
            " Iteration 3\n",
            "y_test:  [2 1 2 0 2 1 0 2 1 2 2 0 1 0 0 0 1 2 0 1 1 0 2 0 0 1 2 1 1 2]\n",
            "y_pred:  [2 1 2 0 2 1 0 2 1 2 2 0 1 0 0 0 1 1 0 1 1 0 2 0 0 2 2 1 1 2]\n",
            "Accuracy: 0.9333333333333333\n",
            "\n",
            " Iteration 4\n",
            "y_test:  [2 1 2 0 2 1 0 2 1 2 2 0 1 0 0 0 1 2 0 1 1 0 2 0 0 1 2 1 1 2]\n",
            "y_pred:  [2 1 2 0 2 1 0 2 1 2 2 0 1 0 0 0 1 1 0 1 1 0 2 0 0 2 2 1 1 2]\n",
            "Accuracy: 0.9333333333333333\n",
            "\n",
            " Iteration 5\n",
            "y_test:  [2 1 2 0 2 1 0 2 1 2 2 0 1 0 0 0 1 2 0 1 1 0 2 0 0 1 2 1 1 2]\n",
            "y_pred:  [2 1 2 0 2 1 0 2 1 2 2 0 1 0 0 0 1 1 0 1 1 0 2 0 0 2 2 1 1 2]\n",
            "Accuracy: 0.9333333333333333\n",
            "\n",
            " Iteration 6\n",
            "y_test:  [2 1 2 0 2 1 0 2 1 2 2 0 1 0 0 0 1 2 0 1 1 0 2 0 0 1 2 1 1 2]\n",
            "y_pred:  [2 1 2 0 2 1 0 2 1 2 2 0 1 0 0 0 1 1 0 1 1 0 2 0 0 2 2 1 1 2]\n",
            "Accuracy: 0.9333333333333333\n",
            "\n",
            " Iteration 7\n",
            "y_test:  [2 1 2 0 2 1 0 2 1 2 2 0 1 0 0 0 1 2 0 1 1 0 2 0 0 1 2 1 1 2]\n",
            "y_pred:  [2 1 2 0 2 1 0 2 1 2 2 0 1 0 0 0 1 1 0 1 1 0 2 0 0 2 2 1 1 2]\n",
            "Accuracy: 0.9333333333333333\n",
            "\n",
            " Iteration 8\n",
            "y_test:  [2 1 2 0 2 1 0 2 1 2 2 0 1 0 0 0 1 2 0 1 1 0 2 0 0 1 2 1 1 2]\n",
            "y_pred:  [2 1 2 0 2 1 0 2 1 2 2 0 1 0 0 0 1 1 0 1 1 0 2 0 0 2 2 1 1 2]\n",
            "Accuracy: 0.9333333333333333\n",
            "\n",
            " Iteration 9\n",
            "y_test:  [2 1 2 0 2 1 0 2 1 2 2 0 1 0 0 0 1 2 0 1 1 0 2 0 0 1 2 1 1 2]\n",
            "y_pred:  [2 1 2 0 2 1 0 2 1 2 2 0 1 0 0 0 1 1 0 1 1 0 2 0 0 2 2 1 1 2]\n",
            "Accuracy: 0.9333333333333333\n",
            "\n",
            " Iteration 10\n",
            "y_test:  [2 1 2 0 2 1 0 2 1 2 2 0 1 0 0 0 1 2 0 1 1 0 2 0 0 1 2 1 1 2]\n",
            "y_pred:  [2 1 2 0 2 1 0 2 1 2 2 0 1 0 0 0 1 1 0 1 1 0 2 0 0 2 2 1 1 2]\n",
            "Accuracy: 0.9333333333333333\n",
            "\n",
            "The avegarge accuracies of 10 iterations on iris data is : 0.9333333333333333\n"
          ],
          "name": "stdout"
        }
      ]
    }
  ]
}