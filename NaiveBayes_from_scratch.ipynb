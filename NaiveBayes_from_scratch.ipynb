{
  "nbformat": 4,
  "nbformat_minor": 0,
  "metadata": {
    "colab": {
      "name": "NaiveBayes_from_scratch.ipynb",
      "provenance": [],
      "collapsed_sections": [],
      "authorship_tag": "ABX9TyNyGt+lR2EohL1L6nZZmEAe"
    },
    "kernelspec": {
      "name": "python3",
      "display_name": "Python 3"
    }
  },
  "cells": [
    {
      "cell_type": "markdown",
      "metadata": {
        "id": "QSvjO31fg2hW"
      },
      "source": [
        "#**Author: Piyush Sharma**"
      ]
    },
    {
      "cell_type": "markdown",
      "metadata": {
        "id": "Cf-_ExN8g4v4"
      },
      "source": [
        "## **Machine Learning**\r\n",
        "\r\n",
        "Implementation of NaiveBayes from scratch\r\n",
        "testing the algorithm on famous & overused iris datset\r\n"
      ]
    },
    {
      "cell_type": "markdown",
      "metadata": {
        "id": "eaerYkL9_HMt"
      },
      "source": [
        "# ---> Writing NaiveBayes from scratch."
      ]
    },
    {
      "cell_type": "markdown",
      "metadata": {
        "id": "gPZVgHkCg7sJ"
      },
      "source": [
        "1. Importing the libraries and reading the data."
      ]
    },
    {
      "cell_type": "code",
      "metadata": {
        "colab": {
          "base_uri": "https://localhost:8080/",
          "height": 204
        },
        "id": "CqE5OKY0gtjQ",
        "outputId": "7848ac47-9b47-4702-b435-a3421fb34a0c"
      },
      "source": [
        "#Importing the Libraries\r\n",
        "import pandas as pd\r\n",
        "import numpy as np\r\n",
        "import matplotlib.pyplot as plt\r\n",
        "\r\n",
        "#Read the dataset \r\n",
        "iris = pd.read_csv('https://raw.githubusercontent.com/Piyush9323/NaiveBayes_in_Python/main/iris.csv')\r\n",
        "#iris.head()\r\n",
        "iris.tail()\r\n"
      ],
      "execution_count": 1,
      "outputs": [
        {
          "output_type": "execute_result",
          "data": {
            "text/html": [
              "<div>\n",
              "<style scoped>\n",
              "    .dataframe tbody tr th:only-of-type {\n",
              "        vertical-align: middle;\n",
              "    }\n",
              "\n",
              "    .dataframe tbody tr th {\n",
              "        vertical-align: top;\n",
              "    }\n",
              "\n",
              "    .dataframe thead th {\n",
              "        text-align: right;\n",
              "    }\n",
              "</style>\n",
              "<table border=\"1\" class=\"dataframe\">\n",
              "  <thead>\n",
              "    <tr style=\"text-align: right;\">\n",
              "      <th></th>\n",
              "      <th>Id</th>\n",
              "      <th>SepalLength</th>\n",
              "      <th>SepalWidth</th>\n",
              "      <th>PetalLength</th>\n",
              "      <th>PetalWidth</th>\n",
              "      <th>Species</th>\n",
              "    </tr>\n",
              "  </thead>\n",
              "  <tbody>\n",
              "    <tr>\n",
              "      <th>145</th>\n",
              "      <td>146</td>\n",
              "      <td>6.7</td>\n",
              "      <td>3.0</td>\n",
              "      <td>5.2</td>\n",
              "      <td>2.3</td>\n",
              "      <td>Iris-virginica</td>\n",
              "    </tr>\n",
              "    <tr>\n",
              "      <th>146</th>\n",
              "      <td>147</td>\n",
              "      <td>6.3</td>\n",
              "      <td>2.5</td>\n",
              "      <td>5.0</td>\n",
              "      <td>1.9</td>\n",
              "      <td>Iris-virginica</td>\n",
              "    </tr>\n",
              "    <tr>\n",
              "      <th>147</th>\n",
              "      <td>148</td>\n",
              "      <td>6.5</td>\n",
              "      <td>3.0</td>\n",
              "      <td>5.2</td>\n",
              "      <td>2.0</td>\n",
              "      <td>Iris-virginica</td>\n",
              "    </tr>\n",
              "    <tr>\n",
              "      <th>148</th>\n",
              "      <td>149</td>\n",
              "      <td>6.2</td>\n",
              "      <td>3.4</td>\n",
              "      <td>5.4</td>\n",
              "      <td>2.3</td>\n",
              "      <td>Iris-virginica</td>\n",
              "    </tr>\n",
              "    <tr>\n",
              "      <th>149</th>\n",
              "      <td>150</td>\n",
              "      <td>5.9</td>\n",
              "      <td>3.0</td>\n",
              "      <td>5.1</td>\n",
              "      <td>1.8</td>\n",
              "      <td>Iris-virginica</td>\n",
              "    </tr>\n",
              "  </tbody>\n",
              "</table>\n",
              "</div>"
            ],
            "text/plain": [
              "      Id  SepalLength  SepalWidth  PetalLength  PetalWidth         Species\n",
              "145  146          6.7         3.0          5.2         2.3  Iris-virginica\n",
              "146  147          6.3         2.5          5.0         1.9  Iris-virginica\n",
              "147  148          6.5         3.0          5.2         2.0  Iris-virginica\n",
              "148  149          6.2         3.4          5.4         2.3  Iris-virginica\n",
              "149  150          5.9         3.0          5.1         1.8  Iris-virginica"
            ]
          },
          "metadata": {
            "tags": []
          },
          "execution_count": 1
        }
      ]
    },
    {
      "cell_type": "markdown",
      "metadata": {
        "id": "-5k8622LhBUF"
      },
      "source": [
        "2. Data Analysis"
      ]
    },
    {
      "cell_type": "code",
      "metadata": {
        "colab": {
          "base_uri": "https://localhost:8080/"
        },
        "id": "Dl2P95RKhFGa",
        "outputId": "8d4b409e-2a21-4a01-ba58-db92322c9b2e"
      },
      "source": [
        "#iris.shape\r\n",
        "#iris['Species'].value_counts()\r\n",
        "#iris.columns\r\n",
        "#iris.values\r\n",
        "iris.info()\r\n",
        "#iris.describe()\r\n",
        "#iris.groupby('Species').size()"
      ],
      "execution_count": 2,
      "outputs": [
        {
          "output_type": "stream",
          "text": [
            "<class 'pandas.core.frame.DataFrame'>\n",
            "RangeIndex: 150 entries, 0 to 149\n",
            "Data columns (total 6 columns):\n",
            " #   Column       Non-Null Count  Dtype  \n",
            "---  ------       --------------  -----  \n",
            " 0   Id           150 non-null    int64  \n",
            " 1   SepalLength  150 non-null    float64\n",
            " 2   SepalWidth   150 non-null    float64\n",
            " 3   PetalLength  150 non-null    float64\n",
            " 4   PetalWidth   150 non-null    float64\n",
            " 5   Species      150 non-null    object \n",
            "dtypes: float64(4), int64(1), object(1)\n",
            "memory usage: 7.2+ KB\n"
          ],
          "name": "stdout"
        }
      ]
    },
    {
      "cell_type": "markdown",
      "metadata": {
        "id": "2b8WjTxj2tfp"
      },
      "source": [
        "3. Data visualization"
      ]
    },
    {
      "cell_type": "code",
      "metadata": {
        "colab": {
          "base_uri": "https://localhost:8080/",
          "height": 383
        },
        "id": "fMsSYc3-2xjo",
        "outputId": "b2941f5d-b832-488e-99a5-7681a1ec152f"
      },
      "source": [
        "import seaborn as sns \r\n",
        "g=sns.relplot(x='SepalLength', y='SepalWidth', data=iris, hue = 'Species', style = 'Species')\r\n",
        "g.fig.set_size_inches(10,5)\r\n",
        "plt.show()"
      ],
      "execution_count": 3,
      "outputs": [
        {
          "output_type": "display_data",
          "data": {
            "image/png": "[encoded data removed]",
            "text/plain": [
              "<Figure size 720x360 with 1 Axes>"
            ]
          },
          "metadata": {
            "tags": [],
            "needs_background": "light"
          }
        }
      ]
    },
    {
      "cell_type": "markdown",
      "metadata": {
        "id": "YS4_zFtX3exR"
      },
      "source": [
        "4. Preparing test and train data by spliting the iris datasets."
      ]
    },
    {
      "cell_type": "code",
      "metadata": {
        "id": "h-7MdW_ThK7w"
      },
      "source": [
        "# This function splits the 150 data points into 120 train and 30 test datasets\r\n",
        "def split_train_test(iris):\r\n",
        "    # getting 80% data as training from each class\r\n",
        "    train1 = iris.iloc[:50,:].sample(frac=0.8)\r\n",
        "    train2 = iris.iloc[50:100].sample(frac=0.8)\r\n",
        "    train3 = iris.iloc[100:150].sample(frac=0.8)\r\n",
        "    frames = [train1, train2, train3]\r\n",
        "    trainf = pd.concat(frames)\r\n",
        "\r\n",
        "    # Preparing remaining 20% data as test data from each class\r\n",
        "    testf = iris.merge(trainf, how = 'outer' ,indicator=True).loc[lambda x : x['_merge']=='left_only']\r\n",
        "    testf = testf.iloc[:,:6]\r\n",
        "    trainf.merge(testf, how = 'inner' ,indicator=False)  # Just for debugging\r\n",
        "    return trainf, testf"
      ],
      "execution_count": 4,
      "outputs": []
    },
    {
      "cell_type": "markdown",
      "metadata": {
        "id": "jgLkBE5ehNpp"
      },
      "source": [
        "5. Preparing train and test list for operations and taking target values."
      ]
    },
    {
      "cell_type": "code",
      "metadata": {
        "id": "JWlcCSPshSL7"
      },
      "source": [
        "# Preparing target data, train and test lists\r\n",
        "def target(trainf, testf):\r\n",
        "    X_train = trainf.iloc[:,1:5].values.tolist()\r\n",
        "    Y_train = trainf.iloc[:,-1].values.tolist()\r\n",
        "    X_test = testf.iloc[:,1:5].values.tolist()\r\n",
        "    Y_test = testf.iloc[:,-1].values.tolist()\r\n",
        "\r\n",
        "    # Label encoding\r\n",
        "    for i in range(len(Y_train)):\r\n",
        "        if Y_train[i] == 'Iris-setosa':\r\n",
        "            Y_train[i] = 0\r\n",
        "        if Y_train[i] ==  'Iris-versicolor' :\r\n",
        "            Y_train[i] = 1\r\n",
        "        if Y_train[i] == 'Iris-virginica' :\r\n",
        "            Y_train[i] = 2\r\n",
        "\r\n",
        "    for i in range(len(Y_test)):\r\n",
        "        if Y_test[i] == 'Iris-setosa':\r\n",
        "            Y_test[i] = 0\r\n",
        "        if Y_test[i] ==  'Iris-versicolor' :\r\n",
        "            Y_test[i] = 1\r\n",
        "        if Y_test[i] == 'Iris-virginica' :\r\n",
        "            Y_test[i] = 2\r\n",
        "    \r\n",
        "    return X_train, X_test, Y_train, Y_test\r\n"
      ],
      "execution_count": 5,
      "outputs": []
    },
    {
      "cell_type": "markdown",
      "metadata": {
        "id": "O_TCx6QqhTgV"
      },
      "source": [
        "6. **Naive Bayes** algorithm for generalised number of samples and features dataset."
      ]
    },
    {
      "cell_type": "code",
      "metadata": {
        "id": "uzQjHTCehWf9"
      },
      "source": [
        "class NaiveBayes:\r\n",
        "    \r\n",
        "    def fit(self, X, y):\r\n",
        "        # Here in iris datset we have n_samples = 120 and n_features = 4\r\n",
        "        n_samples, n_features = len(X), len(X[0])\r\n",
        "        self._classes = np.unique(y)\r\n",
        "        n_classes = len(self._classes)\r\n",
        "        \r\n",
        "        # init mean, var, priors\r\n",
        "        self._mean = np.zeros((n_classes, n_features), dtype = np.float64)\r\n",
        "        self._var = np.zeros((n_classes, n_features), dtype = np.float64)\r\n",
        "        self._priors = np.zeros(n_classes, dtype = np.float64)\r\n",
        "        \r\n",
        "        # split by class\r\n",
        "        C = np.array([X[:40],X[40:80],X[80:]])\r\n",
        "        \r\n",
        "        # calculating means, variances and prior probabilities for all classes\r\n",
        "        for c in self._classes :\r\n",
        "            X_c = C[c]\r\n",
        "            self._mean[c] = np.mean(X_c, axis=0)\r\n",
        "            self._var[c] = np.var(X_c, axis=0)\r\n",
        "            self._priors[c] = X_c.shape[0] / float(n_samples)\r\n",
        "\r\n",
        "    # this function creates a list of predictions for test data\r\n",
        "    def predict(self, X):\r\n",
        "        y_pred = [self._predict(x) for x in X]\r\n",
        "        return y_pred\r\n",
        "\r\n",
        "    # this function predicts for a sample test datapoint\r\n",
        "    def _predict(self, x):\r\n",
        "        posteriors = []\r\n",
        "\r\n",
        "        for i, c in enumerate(self._classes):\r\n",
        "\r\n",
        "            # Log is a increasing function we are using it for optimizing,\r\n",
        "            # ,computations of posteriors probabilities to reduce overflow problem\r\n",
        "            prior = np.log(self._priors[i])\r\n",
        "            class_conditional = np.sum(np.log(self._pdf(i, x)))\r\n",
        "            posterior = class_conditional + prior\r\n",
        "            posteriors.append(posterior)\r\n",
        "\r\n",
        "        return self._classes[np.argmax(posteriors)]\r\n",
        "\r\n",
        "    # with naive assumption of independence of features\r\n",
        "    # calculating pdf for all conditional probabilities considering gaussian distribution\r\n",
        "    def _pdf(self, class_i, x):\r\n",
        "        mean = self._mean[class_i]\r\n",
        "        var = self._var[class_i]\r\n",
        "        numerator = np.exp( -(x - mean)**2 / (2*var) )\r\n",
        "        denominator = np.sqrt(2 * np.pi * var)\r\n",
        "        return numerator / denominator\r\n",
        "        \r\n",
        "    # this functions calculates accuracy of Naivebaye's predictions\r\n",
        "    def accuracy(self, y_true, y_pred):\r\n",
        "        n = len(y_true)\r\n",
        "        match = []\r\n",
        "        for i in range(n):\r\n",
        "            match.append(y_true[i]== y_pred[i])\r\n",
        "        acc = np.sum(match) / n\r\n",
        "        return acc"
      ],
      "execution_count": 6,
      "outputs": []
    },
    {
      "cell_type": "markdown",
      "metadata": {
        "id": "xcsDQDJMhZVd"
      },
      "source": [
        "7. Performing **Naive Bayes** 10 times on randomly choosen test and train data."
      ]
    },
    {
      "cell_type": "code",
      "metadata": {
        "colab": {
          "base_uri": "https://localhost:8080/"
        },
        "id": "F4AM5wOGhdTp",
        "outputId": "77cf3d4a-53b9-4fa4-de2e-43adcd253904"
      },
      "source": [
        "# NB_10_times function repeats Naive Bayes 10 times\r\n",
        "# it prints prediction result and accuracies after every iteration\r\n",
        "# finally average accuracy of 10 iterations\r\n",
        "\r\n",
        "def NB_10_times(iris):\r\n",
        "    accuracies = []       # accuracy of 10 iterations    \r\n",
        "    for j in range(10):\r\n",
        "        # splitting tha dataset\r\n",
        "        trainf, testf = split_train_test(iris)\r\n",
        "\r\n",
        "        # test, train, target\r\n",
        "        X_train, X_test, Y_train, Y_test = target(trainf,testf)\r\n",
        "        \r\n",
        "        # run naivebayes\r\n",
        "        nb = NaiveBayes()\r\n",
        "        nb.fit(X_train, Y_train)\r\n",
        "        predictions = nb.predict(X_test)\r\n",
        "\r\n",
        "        # acc_i is the accuracy of the current iteration\r\n",
        "        acc_i = nb.accuracy(Y_test, predictions)\r\n",
        "        accuracies.append(acc_i*100)\r\n",
        "\r\n",
        "        # Expected result vs predicted\r\n",
        "        #dic = {'Expected' : Y_test, 'Predicted' : predictions}\r\n",
        "        #res = pd.DataFrame(dic)\r\n",
        "        #print(res)\r\n",
        "        #print(predictions)\r\n",
        "        print(\"\\n Iteration\",j+1,\"\\nThe Expected : \",Y_test)\r\n",
        "        print(\"The Predicted : \",predictions)\r\n",
        "        print(\"\\nNaiveBayes classification accuracy is : \",acc_i*100)\r\n",
        "        print()\r\n",
        "    \r\n",
        "    avg_acc = np.mean(accuracies)\r\n",
        "    return avg_acc\r\n",
        "\r\n",
        "\r\n",
        "\r\n",
        "avg_accuracy = NB_10_times(iris)\r\n",
        "\r\n",
        "print(f\"\\nThe average acuracy of Naive Bayes in 10 iterations observed on iris data is :\",avg_accuracy)\r\n"
      ],
      "execution_count": 7,
      "outputs": [
        {
          "output_type": "stream",
          "text": [
            "\n",
            " Iteration 1 \n",
            "The Expected :  [0, 0, 0, 0, 0, 0, 0, 0, 0, 0, 1, 1, 1, 1, 1, 1, 1, 1, 1, 1, 2, 2, 2, 2, 2, 2, 2, 2, 2, 2]\n",
            "The Predicted :  [0, 0, 0, 0, 0, 0, 0, 0, 0, 0, 2, 1, 1, 1, 1, 1, 2, 1, 1, 1, 1, 2, 2, 2, 2, 2, 2, 2, 2, 2]\n",
            "\n",
            "NaiveBayes classification accuracy is :  90.0\n",
            "\n",
            "\n",
            " Iteration 2 \n",
            "The Expected :  [0, 0, 0, 0, 0, 0, 0, 0, 0, 0, 1, 1, 1, 1, 1, 1, 1, 1, 1, 1, 2, 2, 2, 2, 2, 2, 2, 2, 2, 2]\n",
            "The Predicted :  [0, 0, 0, 0, 0, 0, 0, 0, 0, 0, 2, 1, 1, 1, 1, 1, 1, 1, 1, 1, 2, 2, 2, 2, 2, 2, 2, 2, 2, 2]\n",
            "\n",
            "NaiveBayes classification accuracy is :  96.66666666666667\n",
            "\n",
            "\n",
            " Iteration 3 \n",
            "The Expected :  [0, 0, 0, 0, 0, 0, 0, 0, 0, 0, 1, 1, 1, 1, 1, 1, 1, 1, 1, 1, 2, 2, 2, 2, 2, 2, 2, 2, 2, 2]\n",
            "The Predicted :  [0, 0, 0, 0, 0, 0, 0, 0, 0, 0, 2, 1, 1, 1, 1, 1, 2, 1, 1, 1, 2, 2, 2, 2, 2, 2, 2, 1, 2, 2]\n",
            "\n",
            "NaiveBayes classification accuracy is :  90.0\n",
            "\n",
            "\n",
            " Iteration 4 \n",
            "The Expected :  [0, 0, 0, 0, 0, 0, 0, 0, 0, 0, 1, 1, 1, 1, 1, 1, 1, 1, 1, 1, 2, 2, 2, 2, 2, 2, 2, 2, 2, 2]\n",
            "The Predicted :  [0, 0, 0, 0, 0, 0, 0, 0, 0, 0, 2, 1, 1, 1, 2, 1, 1, 1, 1, 1, 2, 2, 2, 2, 2, 2, 2, 2, 2, 2]\n",
            "\n",
            "NaiveBayes classification accuracy is :  93.33333333333333\n",
            "\n",
            "\n",
            " Iteration 5 \n",
            "The Expected :  [0, 0, 0, 0, 0, 0, 0, 0, 0, 0, 1, 1, 1, 1, 1, 1, 1, 1, 1, 1, 2, 2, 2, 2, 2, 2, 2, 2, 2, 2]\n",
            "The Predicted :  [0, 0, 0, 0, 0, 0, 0, 0, 0, 0, 1, 1, 1, 1, 1, 1, 1, 1, 1, 1, 2, 2, 2, 2, 2, 2, 2, 2, 2, 2]\n",
            "\n",
            "NaiveBayes classification accuracy is :  100.0\n",
            "\n",
            "\n",
            " Iteration 6 \n",
            "The Expected :  [0, 0, 0, 0, 0, 0, 0, 0, 0, 0, 1, 1, 1, 1, 1, 1, 1, 1, 1, 1, 2, 2, 2, 2, 2, 2, 2, 2, 2, 2]\n",
            "The Predicted :  [0, 0, 0, 0, 0, 0, 0, 0, 0, 0, 2, 1, 1, 2, 1, 1, 1, 1, 1, 1, 2, 2, 2, 2, 2, 2, 2, 2, 2, 2]\n",
            "\n",
            "NaiveBayes classification accuracy is :  93.33333333333333\n",
            "\n",
            "\n",
            " Iteration 7 \n",
            "The Expected :  [0, 0, 0, 0, 0, 0, 0, 0, 0, 0, 1, 1, 1, 1, 1, 1, 1, 1, 1, 1, 2, 2, 2, 2, 2, 2, 2, 2, 2, 2]\n",
            "The Predicted :  [0, 0, 0, 0, 0, 0, 0, 0, 0, 0, 1, 1, 1, 1, 1, 1, 1, 1, 1, 1, 2, 2, 2, 2, 2, 2, 2, 2, 2, 2]\n",
            "\n",
            "NaiveBayes classification accuracy is :  100.0\n",
            "\n",
            "\n",
            " Iteration 8 \n",
            "The Expected :  [0, 0, 0, 0, 0, 0, 0, 0, 0, 0, 1, 1, 1, 1, 1, 1, 1, 1, 1, 1, 2, 2, 2, 2, 2, 2, 2, 2, 2, 2]\n",
            "The Predicted :  [0, 0, 0, 0, 0, 0, 0, 0, 0, 0, 1, 2, 1, 1, 1, 1, 1, 1, 1, 1, 2, 2, 2, 1, 2, 2, 2, 2, 2, 2]\n",
            "\n",
            "NaiveBayes classification accuracy is :  93.33333333333333\n",
            "\n",
            "\n",
            " Iteration 9 \n",
            "The Expected :  [0, 0, 0, 0, 0, 0, 0, 0, 0, 0, 1, 1, 1, 1, 1, 1, 1, 1, 1, 1, 2, 2, 2, 2, 2, 2, 2, 2, 2, 2]\n",
            "The Predicted :  [0, 0, 0, 0, 0, 0, 0, 0, 0, 0, 1, 1, 1, 1, 2, 1, 1, 1, 1, 1, 2, 2, 2, 2, 2, 2, 2, 2, 2, 2]\n",
            "\n",
            "NaiveBayes classification accuracy is :  96.66666666666667\n",
            "\n",
            "\n",
            " Iteration 10 \n",
            "The Expected :  [0, 0, 0, 0, 0, 0, 0, 0, 0, 0, 1, 1, 1, 1, 1, 1, 1, 1, 1, 1, 2, 2, 2, 2, 2, 2, 2, 2, 2, 2]\n",
            "The Predicted :  [0, 0, 0, 0, 0, 0, 0, 0, 0, 0, 1, 1, 1, 1, 1, 1, 1, 1, 1, 1, 2, 2, 2, 2, 2, 2, 2, 2, 2, 2]\n",
            "\n",
            "NaiveBayes classification accuracy is :  100.0\n",
            "\n",
            "\n",
            "The average acuracy of Naive Bayes in 10 iterations observed on iris data is : 95.33333333333333\n"
          ],
          "name": "stdout"
        }
      ]
    }
  ]
}